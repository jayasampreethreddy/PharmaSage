{
 "cells": [
  {
   "cell_type": "code",
   "execution_count": null,
   "id": "2a1b059f-8ae9-423b-a083-06e85f00b629",
   "metadata": {},
   "outputs": [],
   "source": [
    "from datasets import load_dataset\n",
    "\n",
    "ds = load_dataset(\"MedRAG/pubmed\", split=\"train[:10K]\")  # Use 10k records for prototyping\n"
   ]
  },
  {
   "cell_type": "code",
   "execution_count": null,
   "id": "bbcbf8b7-bb2d-4d1e-a4ba-001897ca93d7",
   "metadata": {},
   "outputs": [],
   "source": []
  }
 ],
 "metadata": {
  "kernelspec": {
   "display_name": "Python 3 (ipykernel)",
   "language": "python",
   "name": "python3"
  },
  "language_info": {
   "codemirror_mode": {
    "name": "ipython",
    "version": 3
   },
   "file_extension": ".py",
   "mimetype": "text/x-python",
   "name": "python",
   "nbconvert_exporter": "python",
   "pygments_lexer": "ipython3",
   "version": "3.12.4"
  }
 },
 "nbformat": 4,
 "nbformat_minor": 5
}
